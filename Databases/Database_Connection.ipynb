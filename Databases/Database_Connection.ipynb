{
 "cells": [
  {
   "cell_type": "markdown",
   "metadata": {},
   "source": [
    "# Week 9 & 10 Exercises\n",
    "\n",
    "**Author:** Shadin Chatila\n",
    "\n",
    "**Date:** 7/30/2024\n",
    "\n",
    "---\n",
    "\n",
    "\n"
   ]
  },
  {
   "cell_type": "markdown",
   "metadata": {},
   "source": [
    "Initializing the connection."
   ]
  },
  {
   "cell_type": "code",
   "execution_count": 82,
   "metadata": {},
   "outputs": [
    {
     "name": "stdout",
     "output_type": "stream",
     "text": [
      "True\n"
     ]
    }
   ],
   "source": [
    "\n",
    "import sqlite3\n",
    "conn = sqlite3.connect(\"petsdb\")  \n",
    "# a tiny function to make sure the connection is successful\n",
    "def is_opened(conn):\n",
    "    try:\n",
    "        conn.execute(\"SELECT * FROM persons LIMIT 1\")\n",
    "        return True\n",
    "    except sqlite3.ProgrammingError as e:\n",
    "        print(\"Connection closed {}\".format(e))\n",
    "        return False\n",
    "print(is_opened(conn))"
   ]
  },
  {
   "cell_type": "markdown",
   "metadata": {},
   "source": [
    "Checking when connection is closed."
   ]
  },
  {
   "cell_type": "code",
   "execution_count": 83,
   "metadata": {},
   "outputs": [
    {
     "name": "stdout",
     "output_type": "stream",
     "text": [
      "Connection closed Cannot operate on a closed database.\n",
      "False\n"
     ]
    }
   ],
   "source": [
    "conn.close()\n",
    "print(is_opened(conn))"
   ]
  },
  {
   "cell_type": "markdown",
   "metadata": {},
   "source": [
    "Initializing connection and creating method to execute queries."
   ]
  },
  {
   "cell_type": "code",
   "execution_count": 84,
   "metadata": {},
   "outputs": [],
   "source": [
    "# Connect to the SQLite database\n",
    "conn = sqlite3.connect(\"petsdb\")\n",
    "cursor = conn.cursor()\n",
    "\n",
    "def execute_query(query):\n",
    "    c.execute(query)\n",
    "    return c.fetchall()"
   ]
  },
  {
   "cell_type": "markdown",
   "metadata": {},
   "source": [
    "#### 1. Count of people belonging to different age groups"
   ]
  },
  {
   "cell_type": "code",
   "execution_count": 85,
   "metadata": {},
   "outputs": [
    {
     "name": "stdout",
     "output_type": "stream",
     "text": [
      "We have 5 people aged 2\n",
      "We have 6 people aged 1\n",
      "We have 7 people aged 1\n",
      "We have 8 people aged 3\n",
      "We have 9 people aged 1\n",
      "We have 11 people aged 2\n",
      "We have 12 people aged 3\n",
      "We have 13 people aged 1\n",
      "We have 14 people aged 4\n",
      "We have 16 people aged 2\n",
      "We have 17 people aged 2\n",
      "We have 18 people aged 3\n",
      "We have 19 people aged 1\n",
      "We have 22 people aged 3\n",
      "We have 23 people aged 2\n",
      "We have 24 people aged 3\n",
      "We have 25 people aged 2\n",
      "We have 27 people aged 1\n",
      "We have 30 people aged 1\n",
      "We have 31 people aged 3\n",
      "We have 32 people aged 1\n",
      "We have 33 people aged 1\n",
      "We have 34 people aged 2\n",
      "We have 35 people aged 3\n",
      "We have 36 people aged 3\n",
      "We have 37 people aged 1\n",
      "We have 39 people aged 2\n",
      "We have 40 people aged 1\n",
      "We have 42 people aged 1\n",
      "We have 44 people aged 2\n",
      "We have 48 people aged 2\n",
      "We have 49 people aged 1\n",
      "We have 50 people aged 1\n",
      "We have 51 people aged 2\n",
      "We have 52 people aged 2\n",
      "We have 53 people aged 2\n",
      "We have 54 people aged 2\n",
      "We have 58 people aged 1\n",
      "We have 59 people aged 1\n",
      "We have 60 people aged 1\n",
      "We have 61 people aged 1\n",
      "We have 62 people aged 2\n",
      "We have 63 people aged 1\n",
      "We have 65 people aged 2\n",
      "We have 66 people aged 2\n",
      "We have 67 people aged 1\n",
      "We have 68 people aged 3\n",
      "We have 69 people aged 1\n",
      "We have 70 people aged 1\n",
      "We have 71 people aged 4\n",
      "We have 72 people aged 1\n",
      "We have 73 people aged 5\n",
      "We have 74 people aged 3\n"
     ]
    }
   ],
   "source": [
    "query1 = \"SELECT age, COUNT(*) AS count FROM persons GROUP BY age;\"\n",
    "result1 = execute_query(query1)\n",
    "\n",
    "for people, age in result1:\n",
    "    print(\"We have {} people aged {}\".format(people, age))"
   ]
  },
  {
   "cell_type": "markdown",
   "metadata": {},
   "source": [
    "#### 2. Age group with the maximum number of people"
   ]
  },
  {
   "cell_type": "code",
   "execution_count": 86,
   "metadata": {},
   "outputs": [
    {
     "name": "stdout",
     "output_type": "stream",
     "text": [
      "Highest number of people is 73 and came from 5 age group\n"
     ]
    }
   ],
   "source": [
    "query2 = \"SELECT age, COUNT(*) AS count FROM persons GROUP BY age ORDER BY count DESC LIMIT 1;\"\n",
    "result2 = execute_query(query2)\n",
    "\n",
    "for people, age in result2:\n",
    "    print(\"Highest number of people is {} and came from {} age group\".format(people,age))\n"
   ]
  },
  {
   "cell_type": "markdown",
   "metadata": {},
   "source": [
    "#### 3. Count of people who do not have a last name"
   ]
  },
  {
   "cell_type": "code",
   "execution_count": 87,
   "metadata": {},
   "outputs": [
    {
     "name": "stdout",
     "output_type": "stream",
     "text": [
      "(60,)\n"
     ]
    }
   ],
   "source": [
    "query3 = \"SELECT COUNT(*) AS count FROM persons WHERE last_name IS NULL;\"\n",
    "result3 = execute_query(query3)\n",
    "\n",
    "print(result3[0])\n"
   ]
  },
  {
   "cell_type": "markdown",
   "metadata": {},
   "source": [
    "#### 4. Count of people who have more than one pet"
   ]
  },
  {
   "cell_type": "code",
   "execution_count": 88,
   "metadata": {},
   "outputs": [
    {
     "name": "stdout",
     "output_type": "stream",
     "text": [
      "43 people have more than one pets\n"
     ]
    }
   ],
   "source": [
    "query4 = \"\"\"\n",
    "SELECT COUNT(*)\n",
    "FROM \n",
    "(SELECT count(owner_id)\n",
    "FROM pets\n",
    "GROUP BY owner_id\n",
    "HAVING COUNT(*) > 1)\n",
    "\"\"\"\n",
    "result4 = execute_query(query4)\n",
    "\n",
    "for people in result4:\n",
    "    print(\"{} people have more than one pets\".format(people[0]))\n",
    "\n"
   ]
  },
  {
   "cell_type": "markdown",
   "metadata": {},
   "source": [
    "#### 5. Count of pets that have received treatment"
   ]
  },
  {
   "cell_type": "code",
   "execution_count": 89,
   "metadata": {},
   "outputs": [
    {
     "name": "stdout",
     "output_type": "stream",
     "text": [
      "(36,)\n"
     ]
    }
   ],
   "source": [
    "query5 = \"SELECT COUNT(*) AS treated_pets_count FROM pets WHERE treatment_done = 1;\"\n",
    "result5 = execute_query(query5)\n",
    "\n",
    "print(result5[0])"
   ]
  },
  {
   "cell_type": "markdown",
   "metadata": {},
   "source": [
    "#### 6. Count of pets that have received treatment, and the type of pet is known"
   ]
  },
  {
   "cell_type": "code",
   "execution_count": 90,
   "metadata": {},
   "outputs": [
    {
     "name": "stdout",
     "output_type": "stream",
     "text": [
      "(16,)\n"
     ]
    }
   ],
   "source": [
    "query6 = \"SELECT COUNT(*) AS treated_pets_count FROM pets WHERE treatment_done = 1 AND pet_type IS NOT NULL;\"\n",
    "result6 = execute_query(query6)\n",
    "\n",
    "print(result6[0])"
   ]
  },
  {
   "cell_type": "markdown",
   "metadata": {},
   "source": [
    "#### 7. Count of pets from the city called East Port"
   ]
  },
  {
   "cell_type": "code",
   "execution_count": 91,
   "metadata": {},
   "outputs": [
    {
     "name": "stdout",
     "output_type": "stream",
     "text": [
      "(49,)\n"
     ]
    }
   ],
   "source": [
    "query7 = \"\"\"\n",
    "SELECT COUNT(*) AS pets_count\n",
    "FROM pets\n",
    "JOIN persons ON pets.owner_id = persons.id\n",
    "WHERE persons.city = 'east port';\n",
    "\"\"\"\n",
    "result7 = execute_query(query7)\n",
    "\n",
    "print(result7[0])\n",
    "\n"
   ]
  },
  {
   "cell_type": "markdown",
   "metadata": {},
   "source": [
    "#### 8. Count of pets from the city called East Port, and who received treatment"
   ]
  },
  {
   "cell_type": "code",
   "execution_count": 92,
   "metadata": {},
   "outputs": [
    {
     "name": "stdout",
     "output_type": "stream",
     "text": [
      "(11,)\n"
     ]
    }
   ],
   "source": [
    "query8 = \"\"\"\n",
    "SELECT COUNT(*) AS treated_pets_count\n",
    "FROM pets\n",
    "JOIN persons ON pets.owner_id = persons.id\n",
    "WHERE persons.city = 'east port' AND pets.treatment_done = 1;\n",
    "\"\"\"\n",
    "result8 = execute_query(query8)\n",
    "\n",
    "print(result8[0])"
   ]
  }
 ],
 "metadata": {
  "kernelspec": {
   "display_name": "base",
   "language": "python",
   "name": "python3"
  },
  "language_info": {
   "codemirror_mode": {
    "name": "ipython",
    "version": 3
   },
   "file_extension": ".py",
   "mimetype": "text/x-python",
   "name": "python",
   "nbconvert_exporter": "python",
   "pygments_lexer": "ipython3",
   "version": "3.11.7"
  }
 },
 "nbformat": 4,
 "nbformat_minor": 2
}
